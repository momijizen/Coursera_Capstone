{
  "nbformat": 4,
  "nbformat_minor": 0,
  "metadata": {
    "colab": {
      "name": "Report_Capstone-Bangkok.ipynb",
      "private_outputs": true,
      "provenance": [],
      "authorship_tag": "ABX9TyMhVlnF0LlRtcTHT2nctFgC",
      "include_colab_link": true
    },
    "kernelspec": {
      "name": "python3",
      "display_name": "Python 3"
    },
    "language_info": {
      "name": "python"
    }
  },
  "cells": [
    {
      "cell_type": "markdown",
      "metadata": {
        "id": "view-in-github",
        "colab_type": "text"
      },
      "source": [
        "<a href=\"https://colab.research.google.com/github/momijizen/Coursera_Capstone/blob/main/Report_Capstone_Bangkok.ipynb\" target=\"_parent\"><img src=\"https://colab.research.google.com/assets/colab-badge.svg\" alt=\"Open In Colab\"/></a>"
      ]
    },
    {
      "cell_type": "markdown",
      "metadata": {
        "id": "DpY2A02KSLzT"
      },
      "source": [
        "#Population analysis and clustering district in Bangkok, Thailand\n",
        "\n",
        "---\n",
        "\n",
        "\n",
        "\n"
      ]
    },
    {
      "cell_type": "markdown",
      "metadata": {
        "id": "l_Pm8xnQSSAk"
      },
      "source": [
        "#1. Introduction"
      ]
    },
    {
      "cell_type": "markdown",
      "metadata": {
        "id": "NL-PpUTuSWRh"
      },
      "source": [
        "##Background\n",
        "\n",
        "Bangkok is the capital and most populous city of Thailand. It is known in Thai as Krung Thep Maha Nakhon or simply Krung Thep. The city occupies 1,568.7 square kilometers (605.7 sq mi) in the Chao Phraya River delta in central Thailand and has an estimated population of 10.539 million as of 2020, 15.3 percent of the country's population. Over fourteen million people (22.2 percent) lived within the surrounding Bangkok Metropolitan Region at the 2010 census, making Bangkok an extremely primate city, dwarfing Thailand's other urban centers in both size and importance to the national economy."
      ]
    },
    {
      "cell_type": "markdown",
      "metadata": {
        "id": "0dswPTsfSimK"
      },
      "source": [
        "##Business Problem\n",
        "How to find a suitable restaurant business location in Bangkok?\n",
        "\n",
        "From the information, Bangkok is the city with the highest population density in Thailand. There are many buildings and meeting places. Therefore, it is interesting for investors to build a business, specifically a restaurant business. But it is difficult to find the suitable place for the restaurant location. The problem with stakeholders is finding a place with less restaurant density and high population density. Therefore, in this project, we will use data science methods to analyze the data to display the results for stakeholders to consider as part of business decision-making."
      ]
    },
    {
      "cell_type": "markdown",
      "metadata": {
        "id": "84IwLwDsS2A5"
      },
      "source": [
        "##Interest\n",
        "Investors interested in investing, and stakeholders will be interested in this project. And take this as part of your investment consideration. Once we have analyzed the existing data and solved these problems with machine learning methods. Then create a map and visualized group each district of population density and restaurants density."
      ]
    },
    {
      "cell_type": "markdown",
      "metadata": {
        "id": "h2NoEJHMTHDD"
      },
      "source": [
        "#2. Data"
      ]
    },
    {
      "cell_type": "markdown",
      "metadata": {
        "id": "_v__Fe-CTCY6"
      },
      "source": [
        "* I discover population data of each district in Bangkok from \n",
        "the Thailand Digital Government Development Agency (DGA), which this uses for calculating population density.\n",
        "\n",
        "* I searched for a Bangkok boundary file or a GeoJson file to create a choropleth map. However, I discovered a Thailand administrative region - sub from data.humdata.org as a shapefile (.shp) containing the coordinates of all cities of Thailand. So I selected only the properties that I required, which were Bangkok's coordinates, and save it as a GeoJson file to reduce the file size and flexibility in working.\n",
        "\n",
        "* I use the Bangkok dataset from the Thailand Digital Government Development Agency (DGA), which contains the longitude and latitude coordinates for each sub-district in Bangkok.\n",
        "\n",
        "* I used Forsquare API to get the restaurant's neighborhood given coordinates center point for each sub-district of Bangkok."
      ]
    },
    {
      "cell_type": "markdown",
      "metadata": {
        "id": "XD83RrXGEN4K"
      },
      "source": [
        "Population data"
      ]
    },
    {
      "cell_type": "code",
      "metadata": {
        "id": "pkAsMElLD43R"
      },
      "source": [
        "import pandas as pd"
      ],
      "execution_count": null,
      "outputs": []
    },
    {
      "cell_type": "code",
      "metadata": {
        "id": "Yr6PnU6QSDd1"
      },
      "source": [
        "path = \"https://raw.githubusercontent.com/momijizen/Coursera_Capstone/main/population.csv\"\n",
        "df_population = pd.read_csv(path)\n",
        "df_population.head()"
      ],
      "execution_count": null,
      "outputs": []
    },
    {
      "cell_type": "markdown",
      "metadata": {
        "id": "nl1IJvOKFLDA"
      },
      "source": [
        "Bangkok boundary coordinates data"
      ]
    },
    {
      "cell_type": "code",
      "metadata": {
        "id": "Bu8GoUpVE9CL"
      },
      "source": [
        "import json\n",
        "# tranforming json file into a pandas dataframe library\n",
        "from pandas.io.json import json_normalize"
      ],
      "execution_count": null,
      "outputs": []
    },
    {
      "cell_type": "code",
      "metadata": {
        "id": "N691PsPKEw-K"
      },
      "source": [
        "!wget -q 'https://raw.githubusercontent.com/momijizen/Coursera_Capstone/main/bangkok_district.geojson'\n",
        "bbk = json.load(open('bangkok_district.geojson'), encoding='utf-8') \n",
        "df = json_normalize(bbk[\"features\"])\n",
        "df.head()"
      ],
      "execution_count": null,
      "outputs": []
    },
    {
      "cell_type": "markdown",
      "metadata": {
        "id": "lhZV25sFEUOr"
      },
      "source": [
        "Location data"
      ]
    },
    {
      "cell_type": "code",
      "metadata": {
        "id": "vwH2dnpuD30R"
      },
      "source": [
        "url = \"https://raw.githubusercontent.com/momijizen/Coursera_Capstone/main/borough.csv\"\n",
        "df_province = pd.read_csv(url)\n",
        "df_province.head()"
      ],
      "execution_count": null,
      "outputs": []
    }
  ]
}