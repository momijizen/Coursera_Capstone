{
  "nbformat": 4,
  "nbformat_minor": 0,
  "metadata": {
    "colab": {
      "name": "Report_Capstone-Bangkok.ipynb",
      "provenance": [],
      "authorship_tag": "ABX9TyMhVlnF0LlRtcTHT2nctFgC",
      "include_colab_link": true
    },
    "kernelspec": {
      "name": "python3",
      "display_name": "Python 3"
    },
    "language_info": {
      "name": "python"
    }
  },
  "cells": [
    {
      "cell_type": "markdown",
      "metadata": {
        "id": "view-in-github",
        "colab_type": "text"
      },
      "source": [
        "<a href=\"https://colab.research.google.com/github/momijizen/Coursera_Capstone/blob/main/Report_Capstone_Bangkok.ipynb\" target=\"_parent\"><img src=\"https://colab.research.google.com/assets/colab-badge.svg\" alt=\"Open In Colab\"/></a>"
      ]
    },
    {
      "cell_type": "markdown",
      "metadata": {
        "id": "DpY2A02KSLzT"
      },
      "source": [
        "#Population analysis and clustering district in Bangkok, Thailand\n",
        "\n",
        "---\n",
        "\n",
        "\n",
        "\n"
      ]
    },
    {
      "cell_type": "markdown",
      "metadata": {
        "id": "l_Pm8xnQSSAk"
      },
      "source": [
        "#1. Introduction"
      ]
    },
    {
      "cell_type": "markdown",
      "metadata": {
        "id": "NL-PpUTuSWRh"
      },
      "source": [
        "##Background\n",
        "\n",
        "Bangkok is the capital and most populous city of Thailand. It is known in Thai as Krung Thep Maha Nakhon or simply Krung Thep. The city occupies 1,568.7 square kilometers (605.7 sq mi) in the Chao Phraya River delta in central Thailand and has an estimated population of 10.539 million as of 2020, 15.3 percent of the country's population. Over fourteen million people (22.2 percent) lived within the surrounding Bangkok Metropolitan Region at the 2010 census, making Bangkok an extremely primate city, dwarfing Thailand's other urban centers in both size and importance to the national economy."
      ]
    },
    {
      "cell_type": "markdown",
      "metadata": {
        "id": "0dswPTsfSimK"
      },
      "source": [
        "##Business Problem\n",
        "How to find a suitable restaurant business location in Bangkok?\n",
        "\n",
        "From the information, Bangkok is the city with the highest population density in Thailand. There are many buildings and meeting places. Therefore, it is interesting for investors to build a business, specifically a restaurant business. But it is difficult to find the suitable place for the restaurant location. The problem with stakeholders is finding a place with less restaurant density and high population density. Therefore, in this project, we will use data science methods to analyze the data to display the results for stakeholders to consider as part of business decision-making."
      ]
    },
    {
      "cell_type": "markdown",
      "metadata": {
        "id": "84IwLwDsS2A5"
      },
      "source": [
        "##Interest\n",
        "Investors interested in investing, and stakeholders will be interested in this project. And take this as part of your investment consideration. Once we have analyzed the existing data and solved these problems with machine learning methods. Then create a map and visualized group each district of population density and restaurants density."
      ]
    },
    {
      "cell_type": "markdown",
      "metadata": {
        "id": "h2NoEJHMTHDD"
      },
      "source": [
        "#2. Data"
      ]
    },
    {
      "cell_type": "markdown",
      "metadata": {
        "id": "_v__Fe-CTCY6"
      },
      "source": [
        "* I discover population data of each district in Bangkok from \n",
        "the Thailand Digital Government Development Agency (DGA), which this uses for calculating population density.\n",
        "\n",
        "* I searched for a Bangkok boundary file or a GeoJson file to create a choropleth map. However, I discovered a Thailand administrative region - sub from data.humdata.org as a shapefile (.shp) containing the coordinates of all cities of Thailand. So I selected only the properties that I required, which were Bangkok's coordinates, and save it as a GeoJson file to reduce the file size and flexibility in working.\n",
        "\n",
        "* I use the Bangkok dataset from the Thailand Digital Government Development Agency (DGA), which contains the longitude and latitude coordinates for each sub-district in Bangkok.\n",
        "\n",
        "* I used Forsquare API to get the restaurant's neighborhood given coordinates center point for each sub-district of Bangkok."
      ]
    },
    {
      "cell_type": "markdown",
      "metadata": {
        "id": "XD83RrXGEN4K"
      },
      "source": [
        "Population data"
      ]
    },
    {
      "cell_type": "code",
      "metadata": {
        "id": "pkAsMElLD43R"
      },
      "source": [
        "import pandas as pd"
      ],
      "execution_count": 1,
      "outputs": []
    },
    {
      "cell_type": "code",
      "metadata": {
        "id": "Yr6PnU6QSDd1",
        "colab": {
          "base_uri": "https://localhost:8080/",
          "height": 224
        },
        "outputId": "719156fa-1bdb-4e76-ee0f-ca2eb4e7c87b"
      },
      "source": [
        "path = \"https://raw.githubusercontent.com/momijizen/Coursera_Capstone/main/population.csv\"\n",
        "df_population = pd.read_csv(path)\n",
        "df_population.head()"
      ],
      "execution_count": 2,
      "outputs": [
        {
          "output_type": "execute_result",
          "data": {
            "text/html": [
              "<div>\n",
              "<style scoped>\n",
              "    .dataframe tbody tr th:only-of-type {\n",
              "        vertical-align: middle;\n",
              "    }\n",
              "\n",
              "    .dataframe tbody tr th {\n",
              "        vertical-align: top;\n",
              "    }\n",
              "\n",
              "    .dataframe thead th {\n",
              "        text-align: right;\n",
              "    }\n",
              "</style>\n",
              "<table border=\"1\" class=\"dataframe\">\n",
              "  <thead>\n",
              "    <tr style=\"text-align: right;\">\n",
              "      <th></th>\n",
              "      <th>dcode</th>\n",
              "      <th>population48</th>\n",
              "      <th>population49</th>\n",
              "      <th>population50</th>\n",
              "      <th>population51</th>\n",
              "      <th>population52</th>\n",
              "      <th>population53</th>\n",
              "      <th>population54</th>\n",
              "      <th>population55</th>\n",
              "      <th>population56</th>\n",
              "      <th>population57</th>\n",
              "      <th>population58</th>\n",
              "      <th>population59</th>\n",
              "      <th>population60</th>\n",
              "      <th>population61</th>\n",
              "    </tr>\n",
              "  </thead>\n",
              "  <tbody>\n",
              "    <tr>\n",
              "      <th>0</th>\n",
              "      <td>1001</td>\n",
              "      <td>67357</td>\n",
              "      <td>65835</td>\n",
              "      <td>64356</td>\n",
              "      <td>62966</td>\n",
              "      <td>61374</td>\n",
              "      <td>60313</td>\n",
              "      <td>58771</td>\n",
              "      <td>57831</td>\n",
              "      <td>56684</td>\n",
              "      <td>55373</td>\n",
              "      <td>54195</td>\n",
              "      <td>52522</td>\n",
              "      <td>0</td>\n",
              "      <td>50382</td>\n",
              "    </tr>\n",
              "    <tr>\n",
              "      <th>1</th>\n",
              "      <td>1002</td>\n",
              "      <td>121336</td>\n",
              "      <td>119927</td>\n",
              "      <td>117867</td>\n",
              "      <td>116742</td>\n",
              "      <td>114488</td>\n",
              "      <td>111496</td>\n",
              "      <td>108815</td>\n",
              "      <td>107969</td>\n",
              "      <td>106811</td>\n",
              "      <td>104394</td>\n",
              "      <td>103230</td>\n",
              "      <td>98450</td>\n",
              "      <td>0</td>\n",
              "      <td>94854</td>\n",
              "    </tr>\n",
              "    <tr>\n",
              "      <th>2</th>\n",
              "      <td>1003</td>\n",
              "      <td>126126</td>\n",
              "      <td>133415</td>\n",
              "      <td>138667</td>\n",
              "      <td>143675</td>\n",
              "      <td>147668</td>\n",
              "      <td>151292</td>\n",
              "      <td>154371</td>\n",
              "      <td>157224</td>\n",
              "      <td>159962</td>\n",
              "      <td>162598</td>\n",
              "      <td>164494</td>\n",
              "      <td>167844</td>\n",
              "      <td>0</td>\n",
              "      <td>172990</td>\n",
              "    </tr>\n",
              "    <tr>\n",
              "      <th>3</th>\n",
              "      <td>1004</td>\n",
              "      <td>50023</td>\n",
              "      <td>49730</td>\n",
              "      <td>49124</td>\n",
              "      <td>48506</td>\n",
              "      <td>47503</td>\n",
              "      <td>47053</td>\n",
              "      <td>46087</td>\n",
              "      <td>46112</td>\n",
              "      <td>46114</td>\n",
              "      <td>46472</td>\n",
              "      <td>46606</td>\n",
              "      <td>47308</td>\n",
              "      <td>0</td>\n",
              "      <td>48207</td>\n",
              "    </tr>\n",
              "    <tr>\n",
              "      <th>4</th>\n",
              "      <td>1005</td>\n",
              "      <td>178986</td>\n",
              "      <td>181390</td>\n",
              "      <td>182335</td>\n",
              "      <td>183836</td>\n",
              "      <td>185901</td>\n",
              "      <td>188164</td>\n",
              "      <td>188252</td>\n",
              "      <td>189737</td>\n",
              "      <td>190544</td>\n",
              "      <td>190659</td>\n",
              "      <td>190528</td>\n",
              "      <td>190828</td>\n",
              "      <td>0</td>\n",
              "      <td>191323</td>\n",
              "    </tr>\n",
              "  </tbody>\n",
              "</table>\n",
              "</div>"
            ],
            "text/plain": [
              "   dcode  population48  population49  ...  population59  population60  population61\n",
              "0   1001         67357         65835  ...         52522             0         50382\n",
              "1   1002        121336        119927  ...         98450             0         94854\n",
              "2   1003        126126        133415  ...        167844             0        172990\n",
              "3   1004         50023         49730  ...         47308             0         48207\n",
              "4   1005        178986        181390  ...        190828             0        191323\n",
              "\n",
              "[5 rows x 15 columns]"
            ]
          },
          "metadata": {
            "tags": []
          },
          "execution_count": 2
        }
      ]
    },
    {
      "cell_type": "markdown",
      "metadata": {
        "id": "nl1IJvOKFLDA"
      },
      "source": [
        "Bangkok boundary coordinates data"
      ]
    },
    {
      "cell_type": "code",
      "metadata": {
        "id": "Bu8GoUpVE9CL"
      },
      "source": [
        "import json\n",
        "# tranforming json file into a pandas dataframe library\n",
        "from pandas.io.json import json_normalize"
      ],
      "execution_count": 3,
      "outputs": []
    },
    {
      "cell_type": "code",
      "metadata": {
        "id": "N691PsPKEw-K",
        "colab": {
          "base_uri": "https://localhost:8080/",
          "height": 323
        },
        "outputId": "39ce9121-737a-4688-edda-d74ac6a3e241"
      },
      "source": [
        "!wget -q 'https://raw.githubusercontent.com/momijizen/Coursera_Capstone/main/bangkok_district.geojson'\n",
        "bbk = json.load(open('bangkok_district.geojson'), encoding='utf-8') \n",
        "df = json_normalize(bbk[\"features\"])\n",
        "df.head()"
      ],
      "execution_count": 4,
      "outputs": [
        {
          "output_type": "stream",
          "text": [
            "/usr/local/lib/python3.7/dist-packages/ipykernel_launcher.py:3: FutureWarning: pandas.io.json.json_normalize is deprecated, use pandas.json_normalize instead\n",
            "  This is separate from the ipykernel package so we can avoid doing imports until\n"
          ],
          "name": "stderr"
        },
        {
          "output_type": "execute_result",
          "data": {
            "text/html": [
              "<div>\n",
              "<style scoped>\n",
              "    .dataframe tbody tr th:only-of-type {\n",
              "        vertical-align: middle;\n",
              "    }\n",
              "\n",
              "    .dataframe tbody tr th {\n",
              "        vertical-align: top;\n",
              "    }\n",
              "\n",
              "    .dataframe thead th {\n",
              "        text-align: right;\n",
              "    }\n",
              "</style>\n",
              "<table border=\"1\" class=\"dataframe\">\n",
              "  <thead>\n",
              "    <tr style=\"text-align: right;\">\n",
              "      <th></th>\n",
              "      <th>type</th>\n",
              "      <th>properties.Shape_Leng</th>\n",
              "      <th>properties.Shape_Area</th>\n",
              "      <th>properties.ADM2_PCODE</th>\n",
              "      <th>properties.ADM2_EN</th>\n",
              "      <th>properties.ADM2_TH</th>\n",
              "      <th>geometry.type</th>\n",
              "      <th>geometry.coordinates</th>\n",
              "    </tr>\n",
              "  </thead>\n",
              "  <tbody>\n",
              "    <tr>\n",
              "      <th>0</th>\n",
              "      <td>Feature</td>\n",
              "      <td>0.280742</td>\n",
              "      <td>0.002845</td>\n",
              "      <td>1050</td>\n",
              "      <td>Bang Bon</td>\n",
              "      <td>บางบอน</td>\n",
              "      <td>Polygon</td>\n",
              "      <td>[[[100.44565916300007, 13.684087302000023], [1...</td>\n",
              "    </tr>\n",
              "    <tr>\n",
              "      <th>1</th>\n",
              "      <td>Feature</td>\n",
              "      <td>0.308691</td>\n",
              "      <td>0.002303</td>\n",
              "      <td>1006</td>\n",
              "      <td>Bang Kapi</td>\n",
              "      <td>บางกะปิ</td>\n",
              "      <td>Polygon</td>\n",
              "      <td>[[[100.62905513700008, 13.819373024000072], [1...</td>\n",
              "    </tr>\n",
              "    <tr>\n",
              "      <th>2</th>\n",
              "      <td>Feature</td>\n",
              "      <td>0.269957</td>\n",
              "      <td>0.003998</td>\n",
              "      <td>1040</td>\n",
              "      <td>Bang Khae</td>\n",
              "      <td>บางแค</td>\n",
              "      <td>Polygon</td>\n",
              "      <td>[[[100.36608772400007, 13.75391084000006], [10...</td>\n",
              "    </tr>\n",
              "    <tr>\n",
              "      <th>3</th>\n",
              "      <td>Feature</td>\n",
              "      <td>0.301722</td>\n",
              "      <td>0.003415</td>\n",
              "      <td>1005</td>\n",
              "      <td>Bang Khen</td>\n",
              "      <td>บางเขน</td>\n",
              "      <td>Polygon</td>\n",
              "      <td>[[[100.60999131200003, 13.890784968000048], [1...</td>\n",
              "    </tr>\n",
              "    <tr>\n",
              "      <th>4</th>\n",
              "      <td>Feature</td>\n",
              "      <td>0.116813</td>\n",
              "      <td>0.000715</td>\n",
              "      <td>1031</td>\n",
              "      <td>Bang Kho Laem</td>\n",
              "      <td>บางคอแหลม</td>\n",
              "      <td>Polygon</td>\n",
              "      <td>[[[100.51966241000008, 13.703230845000064], [1...</td>\n",
              "    </tr>\n",
              "  </tbody>\n",
              "</table>\n",
              "</div>"
            ],
            "text/plain": [
              "      type  ...                               geometry.coordinates\n",
              "0  Feature  ...  [[[100.44565916300007, 13.684087302000023], [1...\n",
              "1  Feature  ...  [[[100.62905513700008, 13.819373024000072], [1...\n",
              "2  Feature  ...  [[[100.36608772400007, 13.75391084000006], [10...\n",
              "3  Feature  ...  [[[100.60999131200003, 13.890784968000048], [1...\n",
              "4  Feature  ...  [[[100.51966241000008, 13.703230845000064], [1...\n",
              "\n",
              "[5 rows x 8 columns]"
            ]
          },
          "metadata": {
            "tags": []
          },
          "execution_count": 4
        }
      ]
    },
    {
      "cell_type": "markdown",
      "metadata": {
        "id": "lhZV25sFEUOr"
      },
      "source": [
        "Location data"
      ]
    },
    {
      "cell_type": "code",
      "metadata": {
        "id": "vwH2dnpuD30R",
        "colab": {
          "base_uri": "https://localhost:8080/",
          "height": 204
        },
        "outputId": "0f567397-a798-470c-db5e-63fe5313934a"
      },
      "source": [
        "url = \"https://raw.githubusercontent.com/momijizen/Coursera_Capstone/main/borough.csv\"\n",
        "df_province = pd.read_csv(url)\n",
        "df_province.head()"
      ],
      "execution_count": 5,
      "outputs": [
        {
          "output_type": "execute_result",
          "data": {
            "text/html": [
              "<div>\n",
              "<style scoped>\n",
              "    .dataframe tbody tr th:only-of-type {\n",
              "        vertical-align: middle;\n",
              "    }\n",
              "\n",
              "    .dataframe tbody tr th {\n",
              "        vertical-align: top;\n",
              "    }\n",
              "\n",
              "    .dataframe thead th {\n",
              "        text-align: right;\n",
              "    }\n",
              "</style>\n",
              "<table border=\"1\" class=\"dataframe\">\n",
              "  <thead>\n",
              "    <tr style=\"text-align: right;\">\n",
              "      <th></th>\n",
              "      <th>AD_LEVEL</th>\n",
              "      <th>TA_ID</th>\n",
              "      <th>TAMBON_T</th>\n",
              "      <th>TAMBON_E</th>\n",
              "      <th>AM_ID</th>\n",
              "      <th>AMPHOE_T</th>\n",
              "      <th>AMPHOE_E</th>\n",
              "      <th>CH_ID</th>\n",
              "      <th>CHANGWAT_T</th>\n",
              "      <th>CHANGWAT_E</th>\n",
              "      <th>LAT</th>\n",
              "      <th>LONG</th>\n",
              "    </tr>\n",
              "  </thead>\n",
              "  <tbody>\n",
              "    <tr>\n",
              "      <th>0</th>\n",
              "      <td>4</td>\n",
              "      <td>910106</td>\n",
              "      <td>ต. เกาะสาหร่าย</td>\n",
              "      <td>Ko Sarai</td>\n",
              "      <td>9101</td>\n",
              "      <td>NaN</td>\n",
              "      <td>Mueang Satun</td>\n",
              "      <td>91</td>\n",
              "      <td>จ. สตูล</td>\n",
              "      <td>Satun</td>\n",
              "      <td>6.546</td>\n",
              "      <td>99.706</td>\n",
              "    </tr>\n",
              "    <tr>\n",
              "      <th>1</th>\n",
              "      <td>4</td>\n",
              "      <td>210114</td>\n",
              "      <td>ต. มาบตาพุด</td>\n",
              "      <td>Maptaphut</td>\n",
              "      <td>2101</td>\n",
              "      <td>อ. เมืองระยอง</td>\n",
              "      <td>Mueang Rayong</td>\n",
              "      <td>21</td>\n",
              "      <td>จ. ระยอง</td>\n",
              "      <td>Rayong</td>\n",
              "      <td>12.646</td>\n",
              "      <td>101.171</td>\n",
              "    </tr>\n",
              "    <tr>\n",
              "      <th>2</th>\n",
              "      <td>4</td>\n",
              "      <td>210114</td>\n",
              "      <td>ต. มาบตาพุด</td>\n",
              "      <td>Maptaphut</td>\n",
              "      <td>2101</td>\n",
              "      <td>อ. เมืองระยอง</td>\n",
              "      <td>Mueang Rayong</td>\n",
              "      <td>21</td>\n",
              "      <td>จ. ระยอง</td>\n",
              "      <td>Rayong</td>\n",
              "      <td>12.645</td>\n",
              "      <td>101.170</td>\n",
              "    </tr>\n",
              "    <tr>\n",
              "      <th>3</th>\n",
              "      <td>4</td>\n",
              "      <td>210114</td>\n",
              "      <td>ต. มาบตาพุด</td>\n",
              "      <td>Maptaphut</td>\n",
              "      <td>2101</td>\n",
              "      <td>อ. เมืองระยอง</td>\n",
              "      <td>Mueang Rayong</td>\n",
              "      <td>21</td>\n",
              "      <td>จ. ระยอง</td>\n",
              "      <td>Rayong</td>\n",
              "      <td>12.649</td>\n",
              "      <td>101.174</td>\n",
              "    </tr>\n",
              "    <tr>\n",
              "      <th>4</th>\n",
              "      <td>4</td>\n",
              "      <td>210114</td>\n",
              "      <td>ต. มาบตาพุด</td>\n",
              "      <td>Maptaphut</td>\n",
              "      <td>2101</td>\n",
              "      <td>อ. เมืองระยอง</td>\n",
              "      <td>Mueang Rayong</td>\n",
              "      <td>21</td>\n",
              "      <td>จ. ระยอง</td>\n",
              "      <td>Rayong</td>\n",
              "      <td>12.644</td>\n",
              "      <td>101.169</td>\n",
              "    </tr>\n",
              "  </tbody>\n",
              "</table>\n",
              "</div>"
            ],
            "text/plain": [
              "   AD_LEVEL   TA_ID        TAMBON_T  ... CHANGWAT_E     LAT     LONG\n",
              "0         4  910106  ต. เกาะสาหร่าย  ...      Satun   6.546   99.706\n",
              "1         4  210114     ต. มาบตาพุด  ...     Rayong  12.646  101.171\n",
              "2         4  210114     ต. มาบตาพุด  ...     Rayong  12.645  101.170\n",
              "3         4  210114     ต. มาบตาพุด  ...     Rayong  12.649  101.174\n",
              "4         4  210114     ต. มาบตาพุด  ...     Rayong  12.644  101.169\n",
              "\n",
              "[5 rows x 12 columns]"
            ]
          },
          "metadata": {
            "tags": []
          },
          "execution_count": 5
        }
      ]
    }
  ]
}